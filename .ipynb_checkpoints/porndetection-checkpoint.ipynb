{
 "cells": [
  {
   "cell_type": "code",
   "execution_count": null,
   "metadata": {
    "colab": {
     "base_uri": "https://localhost:8080/"
    },
    "id": "EHd4p8A-kDov",
    "outputId": "19469e66-2ad9-4883-fd54-2c4c046311fa"
   },
   "outputs": [
    {
     "name": "stdout",
     "output_type": "stream",
     "text": [
      "[nltk_data] Downloading package stopwords to /root/nltk_data...\n",
      "[nltk_data]   Package stopwords is already up-to-date!\n"
     ]
    },
    {
     "data": {
      "text/plain": [
       "True"
      ]
     },
     "execution_count": 497,
     "metadata": {},
     "output_type": "execute_result"
    }
   ],
   "source": [
    "import numpy as np\n",
    "import pandas as pd\n",
    "import scipy\n",
    "from collections import Counter\n",
    "import re\n",
    "import nltk\n",
    "import math\n",
    "from tqdm import tqdm\n",
    "import pymorphy2\n",
    "from sklearn.feature_extraction.text import TfidfVectorizer, CountVectorizer\n",
    "from sklearn.ensemble import RandomForestClassifier, GradientBoostingClassifier, RandomForestRegressor\n",
    "from sklearn.linear_model import LogisticRegression, SGDClassifier\n",
    "from sklearn.tree import DecisionTreeClassifier\n",
    "from sklearn.naive_bayes import MultinomialNB, CategoricalNB\n",
    "from sklearn.metrics import f1_score\n",
    "from sklearn.pipeline import Pipeline, FeatureUnion\n",
    "from sklearn.model_selection import train_test_split, GridSearchCV\n",
    "from sklearn.cluster import DBSCAN\n",
    "from sklearn.decomposition import PCA, TruncatedSVD\n",
    "from sklearn.neighbors import NearestNeighbors\n",
    "import matplotlib.pyplot as plt\n",
    "nltk.download('stopwords')"
   ]
  },
  {
   "cell_type": "code",
   "execution_count": null,
   "metadata": {
    "colab": {
     "base_uri": "https://localhost:8080/"
    },
    "id": "6IedZF7Tk4fT",
    "outputId": "72465bad-7da3-446e-c140-b548ae4fb7e4"
   },
   "outputs": [
    {
     "name": "stdout",
     "output_type": "stream",
     "text": [
      "Collecting pymorphy2\n",
      "  Downloading pymorphy2-0.9.1-py3-none-any.whl (55 kB)\n",
      "\u001b[?25l\r",
      "\u001b[K     |██████                          | 10 kB 23.5 MB/s eta 0:00:01\r",
      "\u001b[K     |███████████▉                    | 20 kB 29.7 MB/s eta 0:00:01\r",
      "\u001b[K     |█████████████████▊              | 30 kB 13.2 MB/s eta 0:00:01\r",
      "\u001b[K     |███████████████████████▋        | 40 kB 9.7 MB/s eta 0:00:01\r",
      "\u001b[K     |█████████████████████████████▌  | 51 kB 5.1 MB/s eta 0:00:01\r",
      "\u001b[K     |████████████████████████████████| 55 kB 2.2 MB/s \n",
      "\u001b[?25hCollecting dawg-python>=0.7.1\n",
      "  Downloading DAWG_Python-0.7.2-py2.py3-none-any.whl (11 kB)\n",
      "Requirement already satisfied: docopt>=0.6 in /usr/local/lib/python3.7/dist-packages (from pymorphy2) (0.6.2)\n",
      "Collecting pymorphy2-dicts-ru<3.0,>=2.4\n",
      "  Downloading pymorphy2_dicts_ru-2.4.417127.4579844-py2.py3-none-any.whl (8.2 MB)\n",
      "\u001b[K     |████████████████████████████████| 8.2 MB 10.6 MB/s \n",
      "\u001b[?25hInstalling collected packages: pymorphy2-dicts-ru, dawg-python, pymorphy2\n",
      "Successfully installed dawg-python-0.7.2 pymorphy2-0.9.1 pymorphy2-dicts-ru-2.4.417127.4579844\n"
     ]
    }
   ],
   "source": [
    "!pip install pymorphy2"
   ]
  },
  {
   "cell_type": "code",
   "execution_count": null,
   "metadata": {
    "id": "rBFvqVPDkDpA"
   },
   "outputs": [],
   "source": [
    "data_train = pd.read_csv(\"train.csv\")\n"
   ]
  },
  {
   "cell_type": "code",
   "execution_count": null,
   "metadata": {
    "id": "_VgHpSsRk5Gf"
   },
   "outputs": [],
   "source": [
    "# список ID ошибок в тренировойной части, удоляем \n",
    "\n",
    "dr = [1450, 3746, 4758, 5712, 10496, 12541,15300, 19390, 19801, 21141, 29584, 29763, 30037, 33568, 9628, 4903, 128933, 130223]"
   ]
  },
  {
   "cell_type": "code",
   "execution_count": null,
   "metadata": {
    "id": "CCgtsn5fkDo2"
   },
   "outputs": [],
   "source": [
    "def replase_target(df, index):\n",
    "    for ind in index:\n",
    "        x = df.target.iloc[ind]\n",
    "        df.target.iloc[ind] = ~x\n",
    "    return df"
   ]
  },
  {
   "cell_type": "code",
   "execution_count": null,
   "metadata": {
    "id": "zhXwPwcUkDo6"
   },
   "outputs": [],
   "source": [
    "TOKEN_PATTERN = \"[А-ЯЁа-яёA-Za-z]+\""
   ]
  },
  {
   "cell_type": "code",
   "execution_count": null,
   "metadata": {
    "id": "J-5kl5_SkDo9"
   },
   "outputs": [],
   "source": [
    "def tokenize(text):\n",
    "    return re.findall(TOKEN_PATTERN, text.lower())"
   ]
  },
  {
   "cell_type": "code",
   "execution_count": null,
   "metadata": {
    "colab": {
     "base_uri": "https://localhost:8080/"
    },
    "id": "0B83uVmZB-n0",
    "outputId": "791e6139-bf8a-4d62-b12e-b52b40a6348d"
   },
   "outputs": [
    {
     "name": "stderr",
     "output_type": "stream",
     "text": [
      "/usr/local/lib/python3.7/dist-packages/pandas/core/indexing.py:670: SettingWithCopyWarning: \n",
      "A value is trying to be set on a copy of a slice from a DataFrame\n",
      "\n",
      "See the caveats in the documentation: https://pandas.pydata.org/pandas-docs/stable/user_guide/indexing.html#returning-a-view-versus-a-copy\n",
      "  iloc._setitem_with_indexer(indexer, value)\n"
     ]
    }
   ],
   "source": [
    "data_train = replase_target(data_train, dr)"
   ]
  },
  {
   "cell_type": "code",
   "execution_count": null,
   "metadata": {
    "id": "9BcReizNkDpF",
    "scrolled": true
   },
   "outputs": [],
   "source": [
    "string = data_train.iloc[1752].title"
   ]
  },
  {
   "cell_type": "code",
   "execution_count": null,
   "metadata": {
    "colab": {
     "base_uri": "https://localhost:8080/",
     "height": 35
    },
    "id": "qz2SBwCguCwE",
    "outputId": "f033386b-0ca7-4683-cc06-2e1978b1d218"
   },
   "outputs": [
    {
     "data": {
      "application/vnd.google.colaboratory.intrinsic+json": {
       "type": "string"
      },
      "text/plain": [
       "'ほしのあき セクシー(o´・∀・｀o)ﾆｺｯ♪.mp4'"
      ]
     },
     "execution_count": 793,
     "metadata": {},
     "output_type": "execute_result"
    }
   ],
   "source": [
    "string"
   ]
  },
  {
   "cell_type": "code",
   "execution_count": null,
   "metadata": {
    "colab": {
     "base_uri": "https://localhost:8080/",
     "height": 35
    },
    "id": "iROpT9PNtxOf",
    "outputId": "f14c18d8-fd0d-4206-dfa8-324295581cd4"
   },
   "outputs": [
    {
     "data": {
      "application/vnd.google.colaboratory.intrinsic+json": {
       "type": "string"
      },
      "text/plain": [
       "'し'"
      ]
     },
     "execution_count": 794,
     "metadata": {},
     "output_type": "execute_result"
    }
   ],
   "source": [
    "string[1]"
   ]
  },
  {
   "cell_type": "markdown",
   "metadata": {
    "id": "RaSR7fyJkDpN"
   },
   "source": [
    "## Обработка title"
   ]
  },
  {
   "cell_type": "code",
   "execution_count": null,
   "metadata": {
    "id": "gS8ralDFkDpO"
   },
   "outputs": [],
   "source": [
    "corpus = data_train.title.values"
   ]
  },
  {
   "cell_type": "code",
   "execution_count": null,
   "metadata": {
    "id": "4OpRDCrnkDpR"
   },
   "outputs": [],
   "source": [
    "docs = [tokenize(title) for title in corpus]"
   ]
  },
  {
   "cell_type": "code",
   "execution_count": null,
   "metadata": {
    "id": "oDEK2bVckDpU"
   },
   "outputs": [],
   "source": [
    "sw = set(['ru', 'mail', 'mp', 'com', 'страница', 'org', 'gp', 'net'])\n",
    "stopword_set_ru = nltk.corpus.stopwords.words('russian')\n",
    "stopword_set_eng = set(nltk.corpus.stopwords.words('english'))\n",
    "stopwords = stopword_set_eng.union(stopword_set_ru, sw)"
   ]
  },
  {
   "cell_type": "code",
   "execution_count": null,
   "metadata": {
    "id": "MCqvLLx_kDpY"
   },
   "outputs": [],
   "source": [
    "lemmatizer = pymorphy2.MorphAnalyzer()"
   ]
  },
  {
   "cell_type": "code",
   "execution_count": null,
   "metadata": {
    "colab": {
     "base_uri": "https://localhost:8080/",
     "referenced_widgets": [
      "39d296b7274648efb378761ba5dece0d",
      "9dc028bf96584adab56a072f44c80f63",
      "c441c93845dc4726bbd8acb1804ccac7",
      "6348490286c047aab23cfc39e074655c",
      "b4306080fa024f0583a5b1ddf2d97ed4",
      "18c33e6d435e43f7a4c773335c612adf",
      "4fa233da8a494ffdb66a7f669a673669",
      "0d8be8652e194014a01a6d2f6e971236",
      "64e50a815fc3454c86c63eedf58b0abc",
      "c0a2e4942ca844e8b049929a28938bc6",
      "844be0f445d34f99b39deb7b219c5337"
     ]
    },
    "id": "TXWDfpXRkDpb",
    "outputId": "4ee2cf95-3777-4967-a48b-08487169fd1b"
   },
   "outputs": [
    {
     "name": "stderr",
     "output_type": "stream",
     "text": [
      "/usr/local/lib/python3.7/dist-packages/ipykernel_launcher.py:10: TqdmDeprecationWarning: This function will be removed in tqdm==5.0.0\n",
      "Please use `tqdm.notebook.tqdm` instead of `tqdm.tqdm_notebook`\n",
      "  # Remove the CWD from sys.path while we load stuff.\n"
     ]
    },
    {
     "data": {
      "application/vnd.jupyter.widget-view+json": {
       "model_id": "39d296b7274648efb378761ba5dece0d",
       "version_major": 2,
       "version_minor": 0
      },
      "text/plain": [
       "  0%|          | 0/135309 [00:00<?, ?it/s]"
      ]
     },
     "metadata": {},
     "output_type": "display_data"
    }
   ],
   "source": [
    "lemmatizer_cache = {}\n",
    "\n",
    "def lemmatize(token):\n",
    "    if lemmatizer.word_is_known(token):\n",
    "        if token not in lemmatizer_cache:\n",
    "            lemmatizer_cache[token] = lemmatizer.parse(token)[0].normal_form\n",
    "        return lemmatizer_cache[token]\n",
    "    return token\n",
    "\n",
    "lemmatized_docs = [[lemmatize(token) for token in text] for text in tqdm_notebook(docs)]\n",
    "\n",
    "cleared_docs = [[token for token in text if token not in stopwords] for text in lemmatized_docs]"
   ]
  },
  {
   "cell_type": "code",
   "execution_count": null,
   "metadata": {
    "id": "Q4IwJDGUkDpe"
   },
   "outputs": [],
   "source": [
    "def conect(array):\n",
    "    string = \"\"\n",
    "    for i in range(len(array)):\n",
    "        string += str(array[i])+' '\n",
    "    return string.rstrip()"
   ]
  },
  {
   "cell_type": "code",
   "execution_count": null,
   "metadata": {
    "id": "RUD9jF6qkDpj"
   },
   "outputs": [],
   "source": [
    "df = pd.DataFrame({\"title\": cleared_docs})"
   ]
  },
  {
   "cell_type": "code",
   "execution_count": null,
   "metadata": {
    "id": "0dnR7OQYkDpm"
   },
   "outputs": [],
   "source": [
    "df = df[\"title\"].apply(conect)"
   ]
  },
  {
   "cell_type": "code",
   "execution_count": null,
   "metadata": {
    "id": "Mr3zmeMdkDpp"
   },
   "outputs": [],
   "source": [
    "data_train.title = df"
   ]
  },
  {
   "cell_type": "code",
   "execution_count": null,
   "metadata": {
    "colab": {
     "base_uri": "https://localhost:8080/"
    },
    "id": "-2X0KK6AkDps",
    "outputId": "455f749e-81a9-40f1-c99c-9d653dc27b8e"
   },
   "outputs": [
    {
     "data": {
      "text/plain": [
       "id               1752\n",
       "url       videogg.com\n",
       "title                \n",
       "target          False\n",
       "Name: 1752, dtype: object"
      ]
     },
     "execution_count": 878,
     "metadata": {},
     "output_type": "execute_result"
    }
   ],
   "source": [
    "data_train.iloc[1752]"
   ]
  },
  {
   "cell_type": "code",
   "execution_count": null,
   "metadata": {
    "colab": {
     "base_uri": "https://localhost:8080/"
    },
    "id": "QfjOi3uQkDp0",
    "outputId": "e4dc38fd-1201-4de8-8e0c-812a0fc8ff5a"
   },
   "outputs": [
    {
     "data": {
      "text/plain": [
       "[(('mail', 'ru'), 6701),\n",
       " (('смотреть', 'онлайн'), 3820),\n",
       " (('поиск', 'mail'), 3502),\n",
       " (('результатов', 'поиск'), 2622),\n",
       " (('купить', 'в'), 2107),\n",
       " (('скачать', 'бесплатно'), 2012),\n",
       " (('онлайн', 'бесплатно'), 1957),\n",
       " (('читать', 'онлайн'), 1808),\n",
       " (('в', 'хорошем'), 1629),\n",
       " (('тыс', 'результатов'), 1611),\n",
       " (('порно', 'видео'), 1529),\n",
       " (('в', 'интернет'), 1529),\n",
       " (('в', 'москве'), 1489),\n",
       " (('интернет', 'магазине'), 1419),\n",
       " (('интернет', 'магазин'), 1377),\n",
       " (('хорошем', 'качестве'), 1361),\n",
       " (('бесплатно', 'в'), 1315),\n",
       " (('на', 'olx'), 1289),\n",
       " (('мой', 'мир'), 1123),\n",
       " (('мир', 'mail'), 1054)]"
      ]
     },
     "execution_count": 880,
     "metadata": {},
     "output_type": "execute_result"
    }
   ],
   "source": [
    "cooccurence = Counter()\n",
    "\n",
    "for doc in docs:\n",
    "    for i in range(len(doc) - 1):\n",
    "        cooccurence[(doc[i], doc[i + 1])] += 1\n",
    "cooccurence.most_common(20)"
   ]
  },
  {
   "cell_type": "markdown",
   "metadata": {
    "id": "tb8cjI6ikDp4"
   },
   "source": [
    "## Обработка URL"
   ]
  },
  {
   "cell_type": "code",
   "execution_count": null,
   "metadata": {
    "id": "Yt6kTgPZkDp5"
   },
   "outputs": [],
   "source": [
    "mystopwords = ['ru','com','org','net', 'www','ua','kz']\n",
    "def  remove_stopwords(text, mystopwords = mystopwords):\n",
    "    string = \"\"\n",
    "    for token in range(len(mystopwords)):\n",
    "        if re.findall(mystopwords[token], text):\n",
    "            text = text.split(mystopwords[token])[0]+text.split(mystopwords[token])[1]\n",
    "    return text\n",
    "\n",
    "def preprocessor(text):\n",
    "    whitespaced_text = re.sub(\"[^a-z]\", ' ', text.lower())\n",
    "    return re.sub(' +', '',  whitespaced_text)\n",
    "\n",
    "def drt(text):\n",
    "    return preprocessor(text)\n"
   ]
  },
  {
   "cell_type": "code",
   "execution_count": null,
   "metadata": {
    "colab": {
     "base_uri": "https://localhost:8080/"
    },
    "id": "xtDloPOgkDp9",
    "outputId": "be328a7e-69c6-4de2-95c2-e1a30287a246"
   },
   "outputs": [
    {
     "data": {
      "text/html": [
       "<div>\n",
       "<style scoped>\n",
       "    .dataframe tbody tr th:only-of-type {\n",
       "        vertical-align: middle;\n",
       "    }\n",
       "\n",
       "    .dataframe tbody tr th {\n",
       "        vertical-align: top;\n",
       "    }\n",
       "\n",
       "    .dataframe thead th {\n",
       "        text-align: right;\n",
       "    }\n",
       "</style>\n",
       "<table border=\"1\" class=\"dataframe\">\n",
       "  <thead>\n",
       "    <tr style=\"text-align: right;\">\n",
       "      <th></th>\n",
       "      <th>id</th>\n",
       "      <th>url</th>\n",
       "      <th>title</th>\n",
       "      <th>target</th>\n",
       "    </tr>\n",
       "  </thead>\n",
       "  <tbody>\n",
       "    <tr>\n",
       "      <th>0</th>\n",
       "      <td>0</td>\n",
       "      <td>mkpmd</td>\n",
       "      <td>экс министр экономика молдова глава мидэи цель...</td>\n",
       "      <td>False</td>\n",
       "    </tr>\n",
       "    <tr>\n",
       "      <th>1</th>\n",
       "      <td>1</td>\n",
       "      <td>wwwkpby</td>\n",
       "      <td>песня стать известный многий телезритель благо...</td>\n",
       "      <td>False</td>\n",
       "    </tr>\n",
       "    <tr>\n",
       "      <th>2</th>\n",
       "      <td>2</td>\n",
       "      <td>fanserialstv</td>\n",
       "      <td>банши сезон серия бремя красота смотреть онлайн</td>\n",
       "      <td>False</td>\n",
       "    </tr>\n",
       "    <tr>\n",
       "      <th>3</th>\n",
       "      <td>3</td>\n",
       "      <td>colorboxspbru</td>\n",
       "      <td>бесить картинка</td>\n",
       "      <td>False</td>\n",
       "    </tr>\n",
       "    <tr>\n",
       "      <th>4</th>\n",
       "      <td>4</td>\n",
       "      <td>tulasportru</td>\n",
       "      <td>новомосковск сыграть следж хоккеист алексински...</td>\n",
       "      <td>False</td>\n",
       "    </tr>\n",
       "    <tr>\n",
       "      <th>...</th>\n",
       "      <td>...</td>\n",
       "      <td>...</td>\n",
       "      <td>...</td>\n",
       "      <td>...</td>\n",
       "    </tr>\n",
       "    <tr>\n",
       "      <th>135304</th>\n",
       "      <td>135304</td>\n",
       "      <td>mailru</td>\n",
       "      <td>пора тюльпан турецкий сериал русский язык резу...</td>\n",
       "      <td>False</td>\n",
       "    </tr>\n",
       "    <tr>\n",
       "      <th>135305</th>\n",
       "      <td>135305</td>\n",
       "      <td>wwwntvru</td>\n",
       "      <td>остросюжетный сериал шеф игра повышение серия</td>\n",
       "      <td>False</td>\n",
       "    </tr>\n",
       "    <tr>\n",
       "      <th>135306</th>\n",
       "      <td>135306</td>\n",
       "      <td>topclassiccarsforsalecom</td>\n",
       "      <td>plymouth special deluxe hot rod automatic smal...</td>\n",
       "      <td>False</td>\n",
       "    </tr>\n",
       "    <tr>\n",
       "      <th>135307</th>\n",
       "      <td>135307</td>\n",
       "      <td>wowcreamru</td>\n",
       "      <td>купить skin сыворотка питательный power formul...</td>\n",
       "      <td>False</td>\n",
       "    </tr>\n",
       "    <tr>\n",
       "      <th>135308</th>\n",
       "      <td>135308</td>\n",
       "      <td>wwwuburu</td>\n",
       "      <td>технический спирт канистра флакон купить москва</td>\n",
       "      <td>False</td>\n",
       "    </tr>\n",
       "  </tbody>\n",
       "</table>\n",
       "<p>135309 rows × 4 columns</p>\n",
       "</div>"
      ],
      "text/plain": [
       "            id  ... target\n",
       "0            0  ...  False\n",
       "1            1  ...  False\n",
       "2            2  ...  False\n",
       "3            3  ...  False\n",
       "4            4  ...  False\n",
       "...        ...  ...    ...\n",
       "135304  135304  ...  False\n",
       "135305  135305  ...  False\n",
       "135306  135306  ...  False\n",
       "135307  135307  ...  False\n",
       "135308  135308  ...  False\n",
       "\n",
       "[135309 rows x 4 columns]"
      ]
     },
     "execution_count": 882,
     "metadata": {},
     "output_type": "execute_result"
    }
   ],
   "source": [
    "data_train.url = data_train.url.apply(drt)\n",
    "data_train"
   ]
  },
  {
   "cell_type": "markdown",
   "metadata": {
    "id": "ALv3tKV5kDqb"
   },
   "source": [
    "## Обучение"
   ]
  },
  {
   "cell_type": "code",
   "execution_count": null,
   "metadata": {
    "id": "nRFJhSoHkDqb"
   },
   "outputs": [],
   "source": [
    "DF2 = data_train.copy()\n",
    "\n",
    "data_train, df_val = train_test_split(data_train, test_size=0.2, random_state=42)"
   ]
  },
  {
   "cell_type": "code",
   "execution_count": null,
   "metadata": {
    "id": "5dJ0c8BCYZK0"
   },
   "outputs": [],
   "source": [
    "y = DF2[\"target\"].astype(int).values\n",
    "y_train, y_val = train_test_split(y, test_size=0.2, random_state=42)"
   ]
  },
  {
   "cell_type": "code",
   "execution_count": null,
   "metadata": {
    "id": "AGyiugVkkDqg"
   },
   "outputs": [],
   "source": [
    "from sklearn.base import TransformerMixin\n",
    "\n",
    "\n",
    "class ColumnExtractor(TransformerMixin):\n",
    "    \n",
    "    def __init__(self, column_name):\n",
    "        self.column_name = column_name\n",
    "    \n",
    "    def fit(self, X, y=None):\n",
    "        return self\n",
    "    \n",
    "    def transform(self, X, y=None):\n",
    "        return X[self.column_name].values"
   ]
  },
  {
   "cell_type": "code",
   "execution_count": null,
   "metadata": {
    "id": "ltpFfWujM82d"
   },
   "outputs": [],
   "source": [
    "from sklearn.ensemble import VotingClassifier"
   ]
  },
  {
   "cell_type": "code",
   "execution_count": null,
   "metadata": {
    "id": "SPtpoR-fkDqk"
   },
   "outputs": [],
   "source": [
    "pipeline = Pipeline([\n",
    "    (\n",
    "        'features', \n",
    "        FeatureUnion([\n",
    "            (\n",
    "                'title', \n",
    "                Pipeline([\n",
    "                    ('extractor', ColumnExtractor('title')),\n",
    "                    (\n",
    "                        'vectorizer', \n",
    "                        TfidfVectorizer(lowercase=True, ngram_range=(1, 1), token_pattern='[\\w]+',\n",
    "                            stop_words=stopwords, min_df=5, max_df=0.9)\n",
    "                    )\n",
    "                ])\n",
    "            ),\n",
    "            (\n",
    "                'url',\n",
    "                Pipeline([\n",
    "                    ('extractor', ColumnExtractor('url')),\n",
    "                    (\n",
    "                        'vectorizer', \n",
    "                        TfidfVectorizer(lowercase=True, ngram_range=(2, 6),\n",
    "                            stop_words=stopwords, min_df=5, max_df=0.9, analyzer='char')\n",
    "                    )\n",
    "                ])\n",
    "            )\n",
    "        ])\n",
    "    ),\n",
    "    ('clf', VotingClassifier(estimators = [('forest', RandomForestClassifier(n_estimators=100,\n",
    "                                                                         min_samples_leaf=1,\n",
    "                                                                         random_state=42,\n",
    "                                                                         max_features='sqrt',\n",
    "                                                                         n_jobs=-1)),\n",
    "                                       ('logreg', LogisticRegression(random_state=42,\n",
    "                                                                     solver=\"liblinear\", \n",
    "                                                                     class_weight='balanced',\n",
    "                                                                     max_iter=1000, C=5.0)),\n",
    "                                      ],\n",
    "                         voting='soft',\n",
    "                         n_jobs=-1))\n",
    "])"
   ]
  },
  {
   "cell_type": "code",
   "execution_count": null,
   "metadata": {
    "colab": {
     "base_uri": "https://localhost:8080/"
    },
    "id": "jRVUmK_OkDqm",
    "outputId": "b9f6b9f3-b417-4314-ddb1-aeb7f5fd91cb"
   },
   "outputs": [
    {
     "data": {
      "text/plain": [
       "Pipeline(memory=None,\n",
       "         steps=[('features',\n",
       "                 FeatureUnion(n_jobs=None,\n",
       "                              transformer_list=[('title',\n",
       "                                                 Pipeline(memory=None,\n",
       "                                                          steps=[('extractor',\n",
       "                                                                  <__main__.ColumnExtractor object at 0x7f58cd74b0d0>),\n",
       "                                                                 ('vectorizer',\n",
       "                                                                  TfidfVectorizer(analyzer='word',\n",
       "                                                                                  binary=False,\n",
       "                                                                                  decode_error='strict',\n",
       "                                                                                  dtype=<class 'numpy.float64'>,\n",
       "                                                                                  encoding='utf-8',\n",
       "                                                                                  input='content',\n",
       "                                                                                  lowercase=True,\n",
       "                                                                                  max_df=0....\n",
       "                                                                      warm_start=False)),\n",
       "                                              ('logreg',\n",
       "                                               LogisticRegression(C=5.0,\n",
       "                                                                  class_weight='balanced',\n",
       "                                                                  dual=False,\n",
       "                                                                  fit_intercept=True,\n",
       "                                                                  intercept_scaling=1,\n",
       "                                                                  l1_ratio=None,\n",
       "                                                                  max_iter=1000,\n",
       "                                                                  multi_class='auto',\n",
       "                                                                  n_jobs=None,\n",
       "                                                                  penalty='l2',\n",
       "                                                                  random_state=42,\n",
       "                                                                  solver='liblinear',\n",
       "                                                                  tol=0.0001,\n",
       "                                                                  verbose=0,\n",
       "                                                                  warm_start=False))],\n",
       "                                  flatten_transform=True, n_jobs=-1,\n",
       "                                  voting='soft', weights=None))],\n",
       "         verbose=False)"
      ]
     },
     "execution_count": 888,
     "metadata": {},
     "output_type": "execute_result"
    }
   ],
   "source": [
    "y = data_train[\"target\"].astype(int).values\n",
    "data_train.drop([\"target\"], axis = 1)\n",
    "pipeline.fit(data_train, y)"
   ]
  },
  {
   "cell_type": "code",
   "execution_count": null,
   "metadata": {
    "colab": {
     "base_uri": "https://localhost:8080/"
    },
    "id": "3LxNzfP7kDqs",
    "outputId": "da92e2df-b5e6-40f0-b02c-3a94fe27e0ed"
   },
   "outputs": [
    {
     "data": {
      "text/plain": [
       "0.9989545216936749"
      ]
     },
     "execution_count": 889,
     "metadata": {},
     "output_type": "execute_result"
    }
   ],
   "source": [
    "f1_score(\n",
    "    y,\n",
    "    pipeline.predict(data_train)\n",
    ")"
   ]
  },
  {
   "cell_type": "code",
   "execution_count": null,
   "metadata": {
    "colab": {
     "base_uri": "https://localhost:8080/"
    },
    "id": "Y9jLgDgqkDqu",
    "outputId": "3bdd1026-8a9f-4176-b1f8-7a0e062883cf"
   },
   "outputs": [
    {
     "data": {
      "text/plain": [
       "0.9846524225097804"
      ]
     },
     "execution_count": 890,
     "metadata": {},
     "output_type": "execute_result"
    }
   ],
   "source": [
    "f1_score(\n",
    "    y_val,\n",
    "    pipeline.predict(df_val)\n",
    ")"
   ]
  },
  {
   "cell_type": "markdown",
   "metadata": {
    "id": "uPYqpdrQYu5L"
   },
   "source": [
    "#### Stacking"
   ]
  },
  {
   "cell_type": "code",
   "execution_count": null,
   "metadata": {
    "id": "Ni6EbXQXTPPO"
   },
   "outputs": [],
   "source": [
    "X = pipeline[\"features\"].transform(DF2)"
   ]
  },
  {
   "cell_type": "code",
   "execution_count": null,
   "metadata": {
    "id": "wYa-saAfTPYq"
   },
   "outputs": [],
   "source": [
    "proba = pipeline.predict_proba(DF2)"
   ]
  },
  {
   "cell_type": "code",
   "execution_count": null,
   "metadata": {
    "id": "cxDq6th5WBek"
   },
   "outputs": [],
   "source": [
    "X = scipy.sparse.hstack([X, proba])"
   ]
  },
  {
   "cell_type": "code",
   "execution_count": null,
   "metadata": {
    "id": "FjTz7BITbbz8"
   },
   "outputs": [],
   "source": [
    "y = DF2[\"target\"].astype(int).values"
   ]
  },
  {
   "cell_type": "code",
   "execution_count": null,
   "metadata": {
    "colab": {
     "base_uri": "https://localhost:8080/"
    },
    "id": "zY9XWobhW55j",
    "outputId": "0519aca4-3839-47b3-f559-312efbf4d915"
   },
   "outputs": [
    {
     "data": {
      "text/plain": [
       "VotingClassifier(estimators=[('forest',\n",
       "                              RandomForestClassifier(bootstrap=True,\n",
       "                                                     ccp_alpha=0.0,\n",
       "                                                     class_weight=None,\n",
       "                                                     criterion='gini',\n",
       "                                                     max_depth=None,\n",
       "                                                     max_features='sqrt',\n",
       "                                                     max_leaf_nodes=None,\n",
       "                                                     max_samples=None,\n",
       "                                                     min_impurity_decrease=0.0,\n",
       "                                                     min_impurity_split=None,\n",
       "                                                     min_samples_leaf=1,\n",
       "                                                     min_samples_split=2,\n",
       "                                                     min_weight_fraction_leaf=0.0,\n",
       "                                                     n_estimators=100,\n",
       "                                                     n_jobs=-1, oob_sco...\n",
       "                                                     random_state=42, verbose=0,\n",
       "                                                     warm_start=False)),\n",
       "                             ('logreg',\n",
       "                              LogisticRegression(C=5.0, class_weight='balanced',\n",
       "                                                 dual=False, fit_intercept=True,\n",
       "                                                 intercept_scaling=1,\n",
       "                                                 l1_ratio=None, max_iter=1000,\n",
       "                                                 multi_class='auto',\n",
       "                                                 n_jobs=None, penalty='l2',\n",
       "                                                 random_state=42,\n",
       "                                                 solver='liblinear', tol=0.0001,\n",
       "                                                 verbose=0,\n",
       "                                                 warm_start=False))],\n",
       "                 flatten_transform=True, n_jobs=-1, voting='soft',\n",
       "                 weights=None)"
      ]
     },
     "execution_count": 851,
     "metadata": {},
     "output_type": "execute_result"
    }
   ],
   "source": [
    "pipeline[\"clf\"].fit(X, y)"
   ]
  },
  {
   "cell_type": "code",
   "execution_count": null,
   "metadata": {
    "colab": {
     "base_uri": "https://localhost:8080/"
    },
    "id": "mhn8uUZkW6Bn",
    "outputId": "963299b9-4675-4357-db71-8985798a8286"
   },
   "outputs": [
    {
     "data": {
      "text/plain": [
       "0.9991332675812189"
      ]
     },
     "execution_count": 852,
     "metadata": {},
     "output_type": "execute_result"
    }
   ],
   "source": [
    "f1_score(\n",
    "    y,\n",
    "    pipeline[\"clf\"].predict(X)\n",
    ")"
   ]
  },
  {
   "cell_type": "markdown",
   "metadata": {
    "id": "I9rwe1l9btJk"
   },
   "source": [
    "#### Bagging"
   ]
  },
  {
   "cell_type": "code",
   "execution_count": null,
   "metadata": {
    "id": "cxIwmemTW6II"
   },
   "outputs": [],
   "source": [
    "n_estimators = 10\n",
    "answer = np.zeros((n_estimators, X.shape[0]), dtype=int)"
   ]
  },
  {
   "cell_type": "code",
   "execution_count": null,
   "metadata": {
    "colab": {
     "base_uri": "https://localhost:8080/"
    },
    "id": "N5GHcqEOYCfT",
    "outputId": "7d190770-0e8c-4ebf-9cfc-f92f959cc6ac"
   },
   "outputs": [
    {
     "name": "stderr",
     "output_type": "stream",
     "text": [
      "100%|██████████| 10/10 [20:27<00:00, 122.73s/it]\n"
     ]
    }
   ],
   "source": [
    "for i in tqdm(range(n_estimators)):\n",
    "    model = RandomForestClassifier(n_estimators=100,\n",
    "                                   min_samples_leaf=1,\n",
    "                                   random_state=42,\n",
    "                                   max_features='sqrt',\n",
    "                                   n_jobs=-1)\n",
    "    features = np.random.choice(np.arange(X.shape[1]), X.shape[1] // 2, replace=False)\n",
    "    model.fit(X.tocsc()[:, features], y)\n",
    "    answer[i] = model.predict(X.tocsc()[:, features])"
   ]
  },
  {
   "cell_type": "code",
   "execution_count": null,
   "metadata": {
    "id": "1qZmnt2fYCl_"
   },
   "outputs": [],
   "source": [
    "rsm_dt_answer = [np.bincount(answer[:, i]).argmax() for i in range(answer.shape[1])]"
   ]
  },
  {
   "cell_type": "code",
   "execution_count": null,
   "metadata": {
    "colab": {
     "base_uri": "https://localhost:8080/"
    },
    "id": "P-yBLTaEW6FE",
    "outputId": "318f2b77-cc78-4069-b0a0-b6b977daa80d"
   },
   "outputs": [
    {
     "data": {
      "text/plain": [
       "0.9995515024667365"
      ]
     },
     "execution_count": 922,
     "metadata": {},
     "output_type": "execute_result"
    }
   ],
   "source": [
    "f1_score(\n",
    "    y,\n",
    "    rsm_dt_answer\n",
    ")"
   ]
  },
  {
   "cell_type": "code",
   "execution_count": null,
   "metadata": {
    "id": "wsjG_xwUd1t2"
   },
   "outputs": [],
   "source": [
    "DF2['predict'] = rsm_dt_answer"
   ]
  },
  {
   "cell_type": "code",
   "execution_count": null,
   "metadata": {
    "colab": {
     "base_uri": "https://localhost:8080/",
     "height": 355
    },
    "id": "waVsgmLZd3HZ",
    "outputId": "ee342de8-d624-4800-e9bc-12bde8c48f6f"
   },
   "outputs": [
    {
     "data": {
      "text/html": [
       "<div>\n",
       "<style scoped>\n",
       "    .dataframe tbody tr th:only-of-type {\n",
       "        vertical-align: middle;\n",
       "    }\n",
       "\n",
       "    .dataframe tbody tr th {\n",
       "        vertical-align: top;\n",
       "    }\n",
       "\n",
       "    .dataframe thead th {\n",
       "        text-align: right;\n",
       "    }\n",
       "</style>\n",
       "<table border=\"1\" class=\"dataframe\">\n",
       "  <thead>\n",
       "    <tr style=\"text-align: right;\">\n",
       "      <th></th>\n",
       "      <th>id</th>\n",
       "      <th>url</th>\n",
       "      <th>title</th>\n",
       "      <th>target</th>\n",
       "      <th>predict</th>\n",
       "    </tr>\n",
       "  </thead>\n",
       "  <tbody>\n",
       "    <tr>\n",
       "      <th>16184</th>\n",
       "      <td>16184</td>\n",
       "      <td>mintimlv</td>\n",
       "      <td>intim lv sludin jumu serviss</td>\n",
       "      <td>True</td>\n",
       "      <td>0</td>\n",
       "    </tr>\n",
       "    <tr>\n",
       "      <th>18577</th>\n",
       "      <td>18577</td>\n",
       "      <td>archiveis</td>\n",
       "      <td>callie lembke girlsdopornidreal</td>\n",
       "      <td>True</td>\n",
       "      <td>0</td>\n",
       "    </tr>\n",
       "    <tr>\n",
       "      <th>21452</th>\n",
       "      <td>21452</td>\n",
       "      <td>spcsme</td>\n",
       "      <td>jpg</td>\n",
       "      <td>True</td>\n",
       "      <td>0</td>\n",
       "    </tr>\n",
       "    <tr>\n",
       "      <th>44664</th>\n",
       "      <td>44664</td>\n",
       "      <td>yandexru</td>\n",
       "      <td></td>\n",
       "      <td>True</td>\n",
       "      <td>0</td>\n",
       "    </tr>\n",
       "    <tr>\n",
       "      <th>45053</th>\n",
       "      <td>45053</td>\n",
       "      <td>mailru</td>\n",
       "      <td>pornobeauty результат поиск</td>\n",
       "      <td>True</td>\n",
       "      <td>0</td>\n",
       "    </tr>\n",
       "    <tr>\n",
       "      <th>70135</th>\n",
       "      <td>70135</td>\n",
       "      <td>mailru</td>\n",
       "      <td>порнхуб млн результат поиск</td>\n",
       "      <td>True</td>\n",
       "      <td>0</td>\n",
       "    </tr>\n",
       "    <tr>\n",
       "      <th>76526</th>\n",
       "      <td>76526</td>\n",
       "      <td>mailru</td>\n",
       "      <td>nazeli hovanisyani pornon картинка поиск</td>\n",
       "      <td>True</td>\n",
       "      <td>0</td>\n",
       "    </tr>\n",
       "    <tr>\n",
       "      <th>79170</th>\n",
       "      <td>79170</td>\n",
       "      <td>barevhayeram</td>\n",
       "      <td>barevhayer</td>\n",
       "      <td>True</td>\n",
       "      <td>0</td>\n",
       "    </tr>\n",
       "    <tr>\n",
       "      <th>79572</th>\n",
       "      <td>79572</td>\n",
       "      <td>mintimlv</td>\n",
       "      <td>intim lv sludin jumu serviss</td>\n",
       "      <td>True</td>\n",
       "      <td>0</td>\n",
       "    </tr>\n",
       "    <tr>\n",
       "      <th>90671</th>\n",
       "      <td>90671</td>\n",
       "      <td>hypoblogorg</td>\n",
       "      <td>wetred</td>\n",
       "      <td>True</td>\n",
       "      <td>0</td>\n",
       "    </tr>\n",
       "  </tbody>\n",
       "</table>\n",
       "</div>"
      ],
      "text/plain": [
       "          id           url  ... target  predict\n",
       "16184  16184      mintimlv  ...   True        0\n",
       "18577  18577     archiveis  ...   True        0\n",
       "21452  21452        spcsme  ...   True        0\n",
       "44664  44664      yandexru  ...   True        0\n",
       "45053  45053        mailru  ...   True        0\n",
       "70135  70135        mailru  ...   True        0\n",
       "76526  76526        mailru  ...   True        0\n",
       "79170  79170  barevhayeram  ...   True        0\n",
       "79572  79572      mintimlv  ...   True        0\n",
       "90671  90671   hypoblogorg  ...   True        0\n",
       "\n",
       "[10 rows x 5 columns]"
      ]
     },
     "execution_count": 925,
     "metadata": {},
     "output_type": "execute_result"
    }
   ],
   "source": [
    "DF2[(DF2.target == True) & (DF2.predict == 0)]"
   ]
  },
  {
   "cell_type": "markdown",
   "metadata": {
    "id": "UdeRUKWk-9EG"
   },
   "source": [
    "## Сабмит\n"
   ]
  },
  {
   "cell_type": "code",
   "execution_count": null,
   "metadata": {
    "id": "P8639wTDYrh0"
   },
   "outputs": [],
   "source": []
  },
  {
   "cell_type": "code",
   "execution_count": null,
   "metadata": {
    "colab": {
     "base_uri": "https://localhost:8080/",
     "height": 414
    },
    "id": "SjnGm--z_Dhm",
    "outputId": "d9e4eb6a-1227-4eeb-905f-406c56aea8e0"
   },
   "outputs": [
    {
     "data": {
      "text/html": [
       "<div>\n",
       "<style scoped>\n",
       "    .dataframe tbody tr th:only-of-type {\n",
       "        vertical-align: middle;\n",
       "    }\n",
       "\n",
       "    .dataframe tbody tr th {\n",
       "        vertical-align: top;\n",
       "    }\n",
       "\n",
       "    .dataframe thead th {\n",
       "        text-align: right;\n",
       "    }\n",
       "</style>\n",
       "<table border=\"1\" class=\"dataframe\">\n",
       "  <thead>\n",
       "    <tr style=\"text-align: right;\">\n",
       "      <th></th>\n",
       "      <th>id</th>\n",
       "      <th>url</th>\n",
       "      <th>title</th>\n",
       "    </tr>\n",
       "  </thead>\n",
       "  <tbody>\n",
       "    <tr>\n",
       "      <th>0</th>\n",
       "      <td>135309</td>\n",
       "      <td>www.kommersant.ru</td>\n",
       "      <td>Шестой кассационный суд в Самаре начнет работу...</td>\n",
       "    </tr>\n",
       "    <tr>\n",
       "      <th>1</th>\n",
       "      <td>135310</td>\n",
       "      <td>urexpert.online</td>\n",
       "      <td>Что такое индексация алиментов, кем и в каких ...</td>\n",
       "    </tr>\n",
       "    <tr>\n",
       "      <th>2</th>\n",
       "      <td>135311</td>\n",
       "      <td>imperimeha.ru</td>\n",
       "      <td>Женщинам | Империя Меха - Part 12</td>\n",
       "    </tr>\n",
       "    <tr>\n",
       "      <th>3</th>\n",
       "      <td>135312</td>\n",
       "      <td>national-porn.com</td>\n",
       "      <td>Небритые, волосатые киски: Порно всех стран и ...</td>\n",
       "    </tr>\n",
       "    <tr>\n",
       "      <th>4</th>\n",
       "      <td>135313</td>\n",
       "      <td>2gis.ru</td>\n",
       "      <td>67</td>\n",
       "    </tr>\n",
       "    <tr>\n",
       "      <th>...</th>\n",
       "      <td>...</td>\n",
       "      <td>...</td>\n",
       "      <td>...</td>\n",
       "    </tr>\n",
       "    <tr>\n",
       "      <th>165373</th>\n",
       "      <td>300682</td>\n",
       "      <td>etp.armtek.ru</td>\n",
       "      <td>Armtek - запчасти для грузовых и легковых авто...</td>\n",
       "    </tr>\n",
       "    <tr>\n",
       "      <th>165374</th>\n",
       "      <td>300683</td>\n",
       "      <td>mail.ru</td>\n",
       "      <td>Лилия Якупова - Караганда, Карагандинская обла...</td>\n",
       "    </tr>\n",
       "    <tr>\n",
       "      <th>165375</th>\n",
       "      <td>300684</td>\n",
       "      <td>xn----8sbnqchpeeeth.xn--p1ai</td>\n",
       "      <td>Администрация Лесного района Тверской области ...</td>\n",
       "    </tr>\n",
       "    <tr>\n",
       "      <th>165376</th>\n",
       "      <td>300685</td>\n",
       "      <td>www-sunhome-ru.cdn.ampproject.org</td>\n",
       "      <td>Сонник Изменение сознания. К чему снится Измен...</td>\n",
       "    </tr>\n",
       "    <tr>\n",
       "      <th>165377</th>\n",
       "      <td>300686</td>\n",
       "      <td>virtual-hockey.org</td>\n",
       "      <td>Строительство базы команды Гранд-Рапидс Гриффи...</td>\n",
       "    </tr>\n",
       "  </tbody>\n",
       "</table>\n",
       "<p>165378 rows × 3 columns</p>\n",
       "</div>"
      ],
      "text/plain": [
       "            id  ...                                              title\n",
       "0       135309  ...  Шестой кассационный суд в Самаре начнет работу...\n",
       "1       135310  ...  Что такое индексация алиментов, кем и в каких ...\n",
       "2       135311  ...                  Женщинам | Империя Меха - Part 12\n",
       "3       135312  ...  Небритые, волосатые киски: Порно всех стран и ...\n",
       "4       135313  ...                                                 67\n",
       "...        ...  ...                                                ...\n",
       "165373  300682  ...  Armtek - запчасти для грузовых и легковых авто...\n",
       "165374  300683  ...  Лилия Якупова - Караганда, Карагандинская обла...\n",
       "165375  300684  ...  Администрация Лесного района Тверской области ...\n",
       "165376  300685  ...  Сонник Изменение сознания. К чему снится Измен...\n",
       "165377  300686  ...  Строительство базы команды Гранд-Рапидс Гриффи...\n",
       "\n",
       "[165378 rows x 3 columns]"
      ]
     },
     "execution_count": 895,
     "metadata": {},
     "output_type": "execute_result"
    }
   ],
   "source": [
    "data_test  = pd.read_csv(\"test.csv\")\n",
    "data_test"
   ]
  },
  {
   "cell_type": "code",
   "execution_count": null,
   "metadata": {
    "id": "6rjOGcJl_OLn"
   },
   "outputs": [],
   "source": [
    "corpus = data_test.title.values"
   ]
  },
  {
   "cell_type": "code",
   "execution_count": null,
   "metadata": {
    "colab": {
     "base_uri": "https://localhost:8080/",
     "height": 102,
     "referenced_widgets": [
      "80884bdf126a475fb89e053c29234c27",
      "3860fb276a7146dbb766798883db81e1",
      "d79c380cbd4e44159ef9014eacb6808a",
      "df69e844354b425a9d0246def863e8a1",
      "92bd9a68dcf3467fa3c964778a013085",
      "7da9c272ef8645019a8aa32be96ab0df",
      "4a946de098ea44d99f79e6e490bf5409",
      "6d651f41f8e1430391f336044794d3ca",
      "7f771e04cf1f4ae19d7a193adfb21bad",
      "7a4c2a61af444059bb1d12cbfe2afc35",
      "8eb771ba0c4c48b688b384f315764409"
     ]
    },
    "id": "o3ys4b1K_jaw",
    "outputId": "6160ce27-b792-4779-ce0e-dedf4c9f7862"
   },
   "outputs": [
    {
     "name": "stderr",
     "output_type": "stream",
     "text": [
      "/usr/local/lib/python3.7/dist-packages/ipykernel_launcher.py:2: TqdmDeprecationWarning: This function will be removed in tqdm==5.0.0\n",
      "Please use `tqdm.notebook.tqdm` instead of `tqdm.tqdm_notebook`\n",
      "  \n"
     ]
    },
    {
     "data": {
      "application/vnd.jupyter.widget-view+json": {
       "model_id": "80884bdf126a475fb89e053c29234c27",
       "version_major": 2,
       "version_minor": 0
      },
      "text/plain": [
       "  0%|          | 0/165378 [00:00<?, ?it/s]"
      ]
     },
     "metadata": {},
     "output_type": "display_data"
    }
   ],
   "source": [
    "docs = [tokenize(title) for title in corpus]\n",
    "lemmatized_docs = [[lemmatize(token) for token in text] for text in tqdm_notebook(docs)]\n",
    "cleared_docs = [[token for token in text if token not in stopwords] for text in lemmatized_docs]"
   ]
  },
  {
   "cell_type": "code",
   "execution_count": null,
   "metadata": {
    "id": "GBFG0xTIADrZ"
   },
   "outputs": [],
   "source": [
    "def conect(array):\n",
    "    string = \"\"\n",
    "    for i in range(len(array)):\n",
    "        string += str(array[i])+' '\n",
    "    return string.rstrip()"
   ]
  },
  {
   "cell_type": "code",
   "execution_count": null,
   "metadata": {
    "colab": {
     "base_uri": "https://localhost:8080/",
     "height": 414
    },
    "id": "V8zi0uVdAHce",
    "outputId": "59f97dcf-6625-49d1-84d8-7b47e68cf126"
   },
   "outputs": [
    {
     "data": {
      "text/html": [
       "<div>\n",
       "<style scoped>\n",
       "    .dataframe tbody tr th:only-of-type {\n",
       "        vertical-align: middle;\n",
       "    }\n",
       "\n",
       "    .dataframe tbody tr th {\n",
       "        vertical-align: top;\n",
       "    }\n",
       "\n",
       "    .dataframe thead th {\n",
       "        text-align: right;\n",
       "    }\n",
       "</style>\n",
       "<table border=\"1\" class=\"dataframe\">\n",
       "  <thead>\n",
       "    <tr style=\"text-align: right;\">\n",
       "      <th></th>\n",
       "      <th>id</th>\n",
       "      <th>url</th>\n",
       "      <th>title</th>\n",
       "    </tr>\n",
       "  </thead>\n",
       "  <tbody>\n",
       "    <tr>\n",
       "      <th>0</th>\n",
       "      <td>135309</td>\n",
       "      <td>www.kommersant.ru</td>\n",
       "      <td>шестой кассационный суд самара начать работа р...</td>\n",
       "    </tr>\n",
       "    <tr>\n",
       "      <th>1</th>\n",
       "      <td>135310</td>\n",
       "      <td>urexpert.online</td>\n",
       "      <td>индексация алименты случай производиться каков...</td>\n",
       "    </tr>\n",
       "    <tr>\n",
       "      <th>2</th>\n",
       "      <td>135311</td>\n",
       "      <td>imperimeha.ru</td>\n",
       "      <td>женщина империя мех part</td>\n",
       "    </tr>\n",
       "    <tr>\n",
       "      <th>3</th>\n",
       "      <td>135312</td>\n",
       "      <td>national-porn.com</td>\n",
       "      <td>небритый волосатый киска порно весь страна нац...</td>\n",
       "    </tr>\n",
       "    <tr>\n",
       "      <th>4</th>\n",
       "      <td>135313</td>\n",
       "      <td>2gis.ru</td>\n",
       "      <td></td>\n",
       "    </tr>\n",
       "    <tr>\n",
       "      <th>...</th>\n",
       "      <td>...</td>\n",
       "      <td>...</td>\n",
       "      <td>...</td>\n",
       "    </tr>\n",
       "    <tr>\n",
       "      <th>165373</th>\n",
       "      <td>300682</td>\n",
       "      <td>etp.armtek.ru</td>\n",
       "      <td>armtek запчасть грузовой легковой автомобиль о...</td>\n",
       "    </tr>\n",
       "    <tr>\n",
       "      <th>165374</th>\n",
       "      <td>300683</td>\n",
       "      <td>mail.ru</td>\n",
       "      <td>лилия якупова караганда карагандинский область...</td>\n",
       "    </tr>\n",
       "    <tr>\n",
       "      <th>165375</th>\n",
       "      <td>300684</td>\n",
       "      <td>xn----8sbnqchpeeeth.xn--p1ai</td>\n",
       "      <td>администрация лесной район тверской область го...</td>\n",
       "    </tr>\n",
       "    <tr>\n",
       "      <th>165376</th>\n",
       "      <td>300685</td>\n",
       "      <td>www-sunhome-ru.cdn.ampproject.org</td>\n",
       "      <td>сонник изменение сознание сниться изменение со...</td>\n",
       "    </tr>\n",
       "    <tr>\n",
       "      <th>165377</th>\n",
       "      <td>300686</td>\n",
       "      <td>virtual-hockey.org</td>\n",
       "      <td>строительство база команда гранд рапидс гриффи...</td>\n",
       "    </tr>\n",
       "  </tbody>\n",
       "</table>\n",
       "<p>165378 rows × 3 columns</p>\n",
       "</div>"
      ],
      "text/plain": [
       "            id  ...                                              title\n",
       "0       135309  ...  шестой кассационный суд самара начать работа р...\n",
       "1       135310  ...  индексация алименты случай производиться каков...\n",
       "2       135311  ...                           женщина империя мех part\n",
       "3       135312  ...  небритый волосатый киска порно весь страна нац...\n",
       "4       135313  ...                                                   \n",
       "...        ...  ...                                                ...\n",
       "165373  300682  ...  armtek запчасть грузовой легковой автомобиль о...\n",
       "165374  300683  ...  лилия якупова караганда карагандинский область...\n",
       "165375  300684  ...  администрация лесной район тверской область го...\n",
       "165376  300685  ...  сонник изменение сознание сниться изменение со...\n",
       "165377  300686  ...  строительство база команда гранд рапидс гриффи...\n",
       "\n",
       "[165378 rows x 3 columns]"
      ]
     },
     "execution_count": 899,
     "metadata": {},
     "output_type": "execute_result"
    }
   ],
   "source": [
    "df = pd.DataFrame({\"title\": cleared_docs})\n",
    "df = df[\"title\"].apply(conect)\n",
    "data_test.title = df\n",
    "data_test"
   ]
  },
  {
   "cell_type": "code",
   "execution_count": null,
   "metadata": {
    "colab": {
     "base_uri": "https://localhost:8080/",
     "height": 414
    },
    "id": "lZLc1_KSAuIX",
    "outputId": "88b5f66e-6206-4781-f914-c8c949b89fd3"
   },
   "outputs": [
    {
     "data": {
      "text/html": [
       "<div>\n",
       "<style scoped>\n",
       "    .dataframe tbody tr th:only-of-type {\n",
       "        vertical-align: middle;\n",
       "    }\n",
       "\n",
       "    .dataframe tbody tr th {\n",
       "        vertical-align: top;\n",
       "    }\n",
       "\n",
       "    .dataframe thead th {\n",
       "        text-align: right;\n",
       "    }\n",
       "</style>\n",
       "<table border=\"1\" class=\"dataframe\">\n",
       "  <thead>\n",
       "    <tr style=\"text-align: right;\">\n",
       "      <th></th>\n",
       "      <th>id</th>\n",
       "      <th>url</th>\n",
       "      <th>title</th>\n",
       "    </tr>\n",
       "  </thead>\n",
       "  <tbody>\n",
       "    <tr>\n",
       "      <th>0</th>\n",
       "      <td>135309</td>\n",
       "      <td>wwwkommersantru</td>\n",
       "      <td>шестой кассационный суд самара начать работа р...</td>\n",
       "    </tr>\n",
       "    <tr>\n",
       "      <th>1</th>\n",
       "      <td>135310</td>\n",
       "      <td>urexpertonline</td>\n",
       "      <td>индексация алименты случай производиться каков...</td>\n",
       "    </tr>\n",
       "    <tr>\n",
       "      <th>2</th>\n",
       "      <td>135311</td>\n",
       "      <td>imperimeharu</td>\n",
       "      <td>женщина империя мех part</td>\n",
       "    </tr>\n",
       "    <tr>\n",
       "      <th>3</th>\n",
       "      <td>135312</td>\n",
       "      <td>nationalporncom</td>\n",
       "      <td>небритый волосатый киска порно весь страна нац...</td>\n",
       "    </tr>\n",
       "    <tr>\n",
       "      <th>4</th>\n",
       "      <td>135313</td>\n",
       "      <td>gisru</td>\n",
       "      <td></td>\n",
       "    </tr>\n",
       "    <tr>\n",
       "      <th>...</th>\n",
       "      <td>...</td>\n",
       "      <td>...</td>\n",
       "      <td>...</td>\n",
       "    </tr>\n",
       "    <tr>\n",
       "      <th>165373</th>\n",
       "      <td>300682</td>\n",
       "      <td>etparmtekru</td>\n",
       "      <td>armtek запчасть грузовой легковой автомобиль о...</td>\n",
       "    </tr>\n",
       "    <tr>\n",
       "      <th>165374</th>\n",
       "      <td>300683</td>\n",
       "      <td>mailru</td>\n",
       "      <td>лилия якупова караганда карагандинский область...</td>\n",
       "    </tr>\n",
       "    <tr>\n",
       "      <th>165375</th>\n",
       "      <td>300684</td>\n",
       "      <td>xnsbnqchpeeethxnpai</td>\n",
       "      <td>администрация лесной район тверской область го...</td>\n",
       "    </tr>\n",
       "    <tr>\n",
       "      <th>165376</th>\n",
       "      <td>300685</td>\n",
       "      <td>wwwsunhomerucdnampprojectorg</td>\n",
       "      <td>сонник изменение сознание сниться изменение со...</td>\n",
       "    </tr>\n",
       "    <tr>\n",
       "      <th>165377</th>\n",
       "      <td>300686</td>\n",
       "      <td>virtualhockeyorg</td>\n",
       "      <td>строительство база команда гранд рапидс гриффи...</td>\n",
       "    </tr>\n",
       "  </tbody>\n",
       "</table>\n",
       "<p>165378 rows × 3 columns</p>\n",
       "</div>"
      ],
      "text/plain": [
       "            id  ...                                              title\n",
       "0       135309  ...  шестой кассационный суд самара начать работа р...\n",
       "1       135310  ...  индексация алименты случай производиться каков...\n",
       "2       135311  ...                           женщина империя мех part\n",
       "3       135312  ...  небритый волосатый киска порно весь страна нац...\n",
       "4       135313  ...                                                   \n",
       "...        ...  ...                                                ...\n",
       "165373  300682  ...  armtek запчасть грузовой легковой автомобиль о...\n",
       "165374  300683  ...  лилия якупова караганда карагандинский область...\n",
       "165375  300684  ...  администрация лесной район тверской область го...\n",
       "165376  300685  ...  сонник изменение сознание сниться изменение со...\n",
       "165377  300686  ...  строительство база команда гранд рапидс гриффи...\n",
       "\n",
       "[165378 rows x 3 columns]"
      ]
     },
     "execution_count": 900,
     "metadata": {},
     "output_type": "execute_result"
    }
   ],
   "source": [
    "data_test.url = data_test.url.apply(drt)\n",
    "data_test"
   ]
  },
  {
   "cell_type": "code",
   "execution_count": null,
   "metadata": {
    "id": "3Px6MeYHUebE"
   },
   "outputs": [],
   "source": [
    "X_TEST = pipeline[\"features\"].transform(data_test)"
   ]
  },
  {
   "cell_type": "code",
   "execution_count": null,
   "metadata": {
    "colab": {
     "base_uri": "https://localhost:8080/"
    },
    "id": "rg2aRgcP6fl-",
    "outputId": "39b13e1f-5931-48fc-a3aa-bcabcf38fcbb"
   },
   "outputs": [
    {
     "data": {
      "text/plain": [
       "<165378x95176 sparse matrix of type '<class 'numpy.float64'>'\n",
       "\twith 7184628 stored elements in Compressed Sparse Row format>"
      ]
     },
     "execution_count": 902,
     "metadata": {},
     "output_type": "execute_result"
    }
   ],
   "source": [
    "X_TEST"
   ]
  },
  {
   "cell_type": "code",
   "execution_count": null,
   "metadata": {
    "id": "11xjZ275UeeG"
   },
   "outputs": [],
   "source": [
    "test_proba = pipeline.predict_proba(data_test)"
   ]
  },
  {
   "cell_type": "code",
   "execution_count": null,
   "metadata": {
    "id": "DDQL4T-UPeDw"
   },
   "outputs": [],
   "source": [
    "X_TEST = scipy.sparse.csr_matrix(scipy.sparse.hstack([X_TEST, test_proba]))"
   ]
  },
  {
   "cell_type": "code",
   "execution_count": null,
   "metadata": {
    "colab": {
     "base_uri": "https://localhost:8080/"
    },
    "id": "gLllSdcPPeM1",
    "outputId": "ffefd835-2b65-471b-b71f-4734c0d9cf1a"
   },
   "outputs": [
    {
     "data": {
      "text/plain": [
       "array([0, 0, 0, ..., 0, 0, 0])"
      ]
     },
     "execution_count": 905,
     "metadata": {},
     "output_type": "execute_result"
    }
   ],
   "source": [
    "y"
   ]
  },
  {
   "cell_type": "code",
   "execution_count": null,
   "metadata": {
    "id": "cT6Z9ud4QG2j"
   },
   "outputs": [],
   "source": [
    "n_estimators = 10\n",
    "answer = np.zeros((n_estimators, X_TEST.shape[0]), dtype=int)"
   ]
  },
  {
   "cell_type": "code",
   "execution_count": null,
   "metadata": {
    "colab": {
     "base_uri": "https://localhost:8080/"
    },
    "id": "WntrkxCIQG8I",
    "outputId": "6ddf0f33-ef1a-430f-a01f-8d3aae39b4f1"
   },
   "outputs": [
    {
     "name": "stderr",
     "output_type": "stream",
     "text": [
      "100%|██████████| 10/10 [23:46<00:00, 142.67s/it]\n"
     ]
    }
   ],
   "source": [
    "for i in tqdm(range(n_estimators)):\n",
    "    model = RandomForestClassifier(n_estimators=100, random_state=42, max_features=\"sqrt\")\n",
    "    features = np.random.choice(np.arange(X.shape[1]), X.shape[1] // 2, replace=False)\n",
    "    model.fit(X.tocsc()[:, features], y)\n",
    "    answer[i] = model.predict(X_TEST.tocsc()[:, features])"
   ]
  },
  {
   "cell_type": "code",
   "execution_count": null,
   "metadata": {
    "id": "pZcp1lptPeRU"
   },
   "outputs": [],
   "source": [
    "rsm_dt_answer = np.array([np.bincount(answer[:, i]).argmax() for i in range(answer.shape[1])])"
   ]
  },
  {
   "cell_type": "code",
   "execution_count": null,
   "metadata": {
    "id": "9lcmOGvzXS0k"
   },
   "outputs": [],
   "source": [
    "test_df = pd.DataFrame()"
   ]
  },
  {
   "cell_type": "code",
   "execution_count": null,
   "metadata": {
    "id": "LtXmnO0rUeYB"
   },
   "outputs": [],
   "source": [
    "test_df[\"id\"] = data_test[\"id\"]\n",
    "test_df[\"target\"] = rsm_dt_answer.astype(bool)\n"
   ]
  },
  {
   "cell_type": "code",
   "execution_count": null,
   "metadata": {
    "colab": {
     "base_uri": "https://localhost:8080/",
     "height": 414
    },
    "id": "jEuFlazpXIML",
    "outputId": "cb9c4c70-6390-4ab9-b473-f767c928fd87"
   },
   "outputs": [
    {
     "data": {
      "text/html": [
       "<div>\n",
       "<style scoped>\n",
       "    .dataframe tbody tr th:only-of-type {\n",
       "        vertical-align: middle;\n",
       "    }\n",
       "\n",
       "    .dataframe tbody tr th {\n",
       "        vertical-align: top;\n",
       "    }\n",
       "\n",
       "    .dataframe thead th {\n",
       "        text-align: right;\n",
       "    }\n",
       "</style>\n",
       "<table border=\"1\" class=\"dataframe\">\n",
       "  <thead>\n",
       "    <tr style=\"text-align: right;\">\n",
       "      <th></th>\n",
       "      <th>id</th>\n",
       "      <th>target</th>\n",
       "    </tr>\n",
       "  </thead>\n",
       "  <tbody>\n",
       "    <tr>\n",
       "      <th>0</th>\n",
       "      <td>135309</td>\n",
       "      <td>False</td>\n",
       "    </tr>\n",
       "    <tr>\n",
       "      <th>1</th>\n",
       "      <td>135310</td>\n",
       "      <td>False</td>\n",
       "    </tr>\n",
       "    <tr>\n",
       "      <th>2</th>\n",
       "      <td>135311</td>\n",
       "      <td>False</td>\n",
       "    </tr>\n",
       "    <tr>\n",
       "      <th>3</th>\n",
       "      <td>135312</td>\n",
       "      <td>True</td>\n",
       "    </tr>\n",
       "    <tr>\n",
       "      <th>4</th>\n",
       "      <td>135313</td>\n",
       "      <td>False</td>\n",
       "    </tr>\n",
       "    <tr>\n",
       "      <th>...</th>\n",
       "      <td>...</td>\n",
       "      <td>...</td>\n",
       "    </tr>\n",
       "    <tr>\n",
       "      <th>165373</th>\n",
       "      <td>300682</td>\n",
       "      <td>False</td>\n",
       "    </tr>\n",
       "    <tr>\n",
       "      <th>165374</th>\n",
       "      <td>300683</td>\n",
       "      <td>False</td>\n",
       "    </tr>\n",
       "    <tr>\n",
       "      <th>165375</th>\n",
       "      <td>300684</td>\n",
       "      <td>False</td>\n",
       "    </tr>\n",
       "    <tr>\n",
       "      <th>165376</th>\n",
       "      <td>300685</td>\n",
       "      <td>False</td>\n",
       "    </tr>\n",
       "    <tr>\n",
       "      <th>165377</th>\n",
       "      <td>300686</td>\n",
       "      <td>False</td>\n",
       "    </tr>\n",
       "  </tbody>\n",
       "</table>\n",
       "<p>165378 rows × 2 columns</p>\n",
       "</div>"
      ],
      "text/plain": [
       "            id  target\n",
       "0       135309   False\n",
       "1       135310   False\n",
       "2       135311   False\n",
       "3       135312    True\n",
       "4       135313   False\n",
       "...        ...     ...\n",
       "165373  300682   False\n",
       "165374  300683   False\n",
       "165375  300684   False\n",
       "165376  300685   False\n",
       "165377  300686   False\n",
       "\n",
       "[165378 rows x 2 columns]"
      ]
     },
     "execution_count": 913,
     "metadata": {},
     "output_type": "execute_result"
    }
   ],
   "source": [
    "test_df"
   ]
  },
  {
   "cell_type": "code",
   "execution_count": null,
   "metadata": {
    "id": "pDSR6n8tXIQ3"
   },
   "outputs": [],
   "source": []
  },
  {
   "cell_type": "code",
   "execution_count": null,
   "metadata": {
    "id": "CGd0wjJWTcFP"
   },
   "outputs": [],
   "source": [
    "test_df.to_csv(\"submit_3.csv\", index=False)"
   ]
  }
 ],
 "metadata": {
  "colab": {
   "collapsed_sections": [
    "RaSR7fyJkDpN",
    "tb8cjI6ikDp4"
   ],
   "name": "Untitled.ipynb",
   "provenance": []
  },
  "kernelspec": {
   "display_name": "Python 3",
   "language": "python",
   "name": "python3"
  },
  "language_info": {
   "codemirror_mode": {
    "name": "ipython",
    "version": 3
   },
   "file_extension": ".py",
   "mimetype": "text/x-python",
   "name": "python",
   "nbconvert_exporter": "python",
   "pygments_lexer": "ipython3",
   "version": "3.8.5"
  },
  "widgets": {
   "application/vnd.jupyter.widget-state+json": {
    "0d8be8652e194014a01a6d2f6e971236": {
     "model_module": "@jupyter-widgets/controls",
     "model_module_version": "1.5.0",
     "model_name": "ProgressStyleModel",
     "state": {
      "_model_module": "@jupyter-widgets/controls",
      "_model_module_version": "1.5.0",
      "_model_name": "ProgressStyleModel",
      "_view_count": null,
      "_view_module": "@jupyter-widgets/base",
      "_view_module_version": "1.2.0",
      "_view_name": "StyleView",
      "bar_color": null,
      "description_width": ""
     }
    },
    "18c33e6d435e43f7a4c773335c612adf": {
     "model_module": "@jupyter-widgets/controls",
     "model_module_version": "1.5.0",
     "model_name": "DescriptionStyleModel",
     "state": {
      "_model_module": "@jupyter-widgets/controls",
      "_model_module_version": "1.5.0",
      "_model_name": "DescriptionStyleModel",
      "_view_count": null,
      "_view_module": "@jupyter-widgets/base",
      "_view_module_version": "1.2.0",
      "_view_name": "StyleView",
      "description_width": ""
     }
    },
    "3860fb276a7146dbb766798883db81e1": {
     "model_module": "@jupyter-widgets/base",
     "model_module_version": "1.2.0",
     "model_name": "LayoutModel",
     "state": {
      "_model_module": "@jupyter-widgets/base",
      "_model_module_version": "1.2.0",
      "_model_name": "LayoutModel",
      "_view_count": null,
      "_view_module": "@jupyter-widgets/base",
      "_view_module_version": "1.2.0",
      "_view_name": "LayoutView",
      "align_content": null,
      "align_items": null,
      "align_self": null,
      "border": null,
      "bottom": null,
      "display": null,
      "flex": null,
      "flex_flow": null,
      "grid_area": null,
      "grid_auto_columns": null,
      "grid_auto_flow": null,
      "grid_auto_rows": null,
      "grid_column": null,
      "grid_gap": null,
      "grid_row": null,
      "grid_template_areas": null,
      "grid_template_columns": null,
      "grid_template_rows": null,
      "height": null,
      "justify_content": null,
      "justify_items": null,
      "left": null,
      "margin": null,
      "max_height": null,
      "max_width": null,
      "min_height": null,
      "min_width": null,
      "object_fit": null,
      "object_position": null,
      "order": null,
      "overflow": null,
      "overflow_x": null,
      "overflow_y": null,
      "padding": null,
      "right": null,
      "top": null,
      "visibility": null,
      "width": null
     }
    },
    "39d296b7274648efb378761ba5dece0d": {
     "model_module": "@jupyter-widgets/controls",
     "model_module_version": "1.5.0",
     "model_name": "HBoxModel",
     "state": {
      "_dom_classes": [],
      "_model_module": "@jupyter-widgets/controls",
      "_model_module_version": "1.5.0",
      "_model_name": "HBoxModel",
      "_view_count": null,
      "_view_module": "@jupyter-widgets/controls",
      "_view_module_version": "1.5.0",
      "_view_name": "HBoxView",
      "box_style": "",
      "children": [
       "IPY_MODEL_c441c93845dc4726bbd8acb1804ccac7",
       "IPY_MODEL_6348490286c047aab23cfc39e074655c",
       "IPY_MODEL_b4306080fa024f0583a5b1ddf2d97ed4"
      ],
      "layout": "IPY_MODEL_9dc028bf96584adab56a072f44c80f63"
     }
    },
    "4a946de098ea44d99f79e6e490bf5409": {
     "model_module": "@jupyter-widgets/base",
     "model_module_version": "1.2.0",
     "model_name": "LayoutModel",
     "state": {
      "_model_module": "@jupyter-widgets/base",
      "_model_module_version": "1.2.0",
      "_model_name": "LayoutModel",
      "_view_count": null,
      "_view_module": "@jupyter-widgets/base",
      "_view_module_version": "1.2.0",
      "_view_name": "LayoutView",
      "align_content": null,
      "align_items": null,
      "align_self": null,
      "border": null,
      "bottom": null,
      "display": null,
      "flex": null,
      "flex_flow": null,
      "grid_area": null,
      "grid_auto_columns": null,
      "grid_auto_flow": null,
      "grid_auto_rows": null,
      "grid_column": null,
      "grid_gap": null,
      "grid_row": null,
      "grid_template_areas": null,
      "grid_template_columns": null,
      "grid_template_rows": null,
      "height": null,
      "justify_content": null,
      "justify_items": null,
      "left": null,
      "margin": null,
      "max_height": null,
      "max_width": null,
      "min_height": null,
      "min_width": null,
      "object_fit": null,
      "object_position": null,
      "order": null,
      "overflow": null,
      "overflow_x": null,
      "overflow_y": null,
      "padding": null,
      "right": null,
      "top": null,
      "visibility": null,
      "width": null
     }
    },
    "4fa233da8a494ffdb66a7f669a673669": {
     "model_module": "@jupyter-widgets/base",
     "model_module_version": "1.2.0",
     "model_name": "LayoutModel",
     "state": {
      "_model_module": "@jupyter-widgets/base",
      "_model_module_version": "1.2.0",
      "_model_name": "LayoutModel",
      "_view_count": null,
      "_view_module": "@jupyter-widgets/base",
      "_view_module_version": "1.2.0",
      "_view_name": "LayoutView",
      "align_content": null,
      "align_items": null,
      "align_self": null,
      "border": null,
      "bottom": null,
      "display": null,
      "flex": null,
      "flex_flow": null,
      "grid_area": null,
      "grid_auto_columns": null,
      "grid_auto_flow": null,
      "grid_auto_rows": null,
      "grid_column": null,
      "grid_gap": null,
      "grid_row": null,
      "grid_template_areas": null,
      "grid_template_columns": null,
      "grid_template_rows": null,
      "height": null,
      "justify_content": null,
      "justify_items": null,
      "left": null,
      "margin": null,
      "max_height": null,
      "max_width": null,
      "min_height": null,
      "min_width": null,
      "object_fit": null,
      "object_position": null,
      "order": null,
      "overflow": null,
      "overflow_x": null,
      "overflow_y": null,
      "padding": null,
      "right": null,
      "top": null,
      "visibility": null,
      "width": null
     }
    },
    "6348490286c047aab23cfc39e074655c": {
     "model_module": "@jupyter-widgets/controls",
     "model_module_version": "1.5.0",
     "model_name": "FloatProgressModel",
     "state": {
      "_dom_classes": [],
      "_model_module": "@jupyter-widgets/controls",
      "_model_module_version": "1.5.0",
      "_model_name": "FloatProgressModel",
      "_view_count": null,
      "_view_module": "@jupyter-widgets/controls",
      "_view_module_version": "1.5.0",
      "_view_name": "ProgressView",
      "bar_style": "success",
      "description": "",
      "description_tooltip": null,
      "layout": "IPY_MODEL_64e50a815fc3454c86c63eedf58b0abc",
      "max": 135309,
      "min": 0,
      "orientation": "horizontal",
      "style": "IPY_MODEL_0d8be8652e194014a01a6d2f6e971236",
      "value": 135309
     }
    },
    "64e50a815fc3454c86c63eedf58b0abc": {
     "model_module": "@jupyter-widgets/base",
     "model_module_version": "1.2.0",
     "model_name": "LayoutModel",
     "state": {
      "_model_module": "@jupyter-widgets/base",
      "_model_module_version": "1.2.0",
      "_model_name": "LayoutModel",
      "_view_count": null,
      "_view_module": "@jupyter-widgets/base",
      "_view_module_version": "1.2.0",
      "_view_name": "LayoutView",
      "align_content": null,
      "align_items": null,
      "align_self": null,
      "border": null,
      "bottom": null,
      "display": null,
      "flex": null,
      "flex_flow": null,
      "grid_area": null,
      "grid_auto_columns": null,
      "grid_auto_flow": null,
      "grid_auto_rows": null,
      "grid_column": null,
      "grid_gap": null,
      "grid_row": null,
      "grid_template_areas": null,
      "grid_template_columns": null,
      "grid_template_rows": null,
      "height": null,
      "justify_content": null,
      "justify_items": null,
      "left": null,
      "margin": null,
      "max_height": null,
      "max_width": null,
      "min_height": null,
      "min_width": null,
      "object_fit": null,
      "object_position": null,
      "order": null,
      "overflow": null,
      "overflow_x": null,
      "overflow_y": null,
      "padding": null,
      "right": null,
      "top": null,
      "visibility": null,
      "width": null
     }
    },
    "6d651f41f8e1430391f336044794d3ca": {
     "model_module": "@jupyter-widgets/controls",
     "model_module_version": "1.5.0",
     "model_name": "ProgressStyleModel",
     "state": {
      "_model_module": "@jupyter-widgets/controls",
      "_model_module_version": "1.5.0",
      "_model_name": "ProgressStyleModel",
      "_view_count": null,
      "_view_module": "@jupyter-widgets/base",
      "_view_module_version": "1.2.0",
      "_view_name": "StyleView",
      "bar_color": null,
      "description_width": ""
     }
    },
    "7a4c2a61af444059bb1d12cbfe2afc35": {
     "model_module": "@jupyter-widgets/controls",
     "model_module_version": "1.5.0",
     "model_name": "DescriptionStyleModel",
     "state": {
      "_model_module": "@jupyter-widgets/controls",
      "_model_module_version": "1.5.0",
      "_model_name": "DescriptionStyleModel",
      "_view_count": null,
      "_view_module": "@jupyter-widgets/base",
      "_view_module_version": "1.2.0",
      "_view_name": "StyleView",
      "description_width": ""
     }
    },
    "7da9c272ef8645019a8aa32be96ab0df": {
     "model_module": "@jupyter-widgets/controls",
     "model_module_version": "1.5.0",
     "model_name": "DescriptionStyleModel",
     "state": {
      "_model_module": "@jupyter-widgets/controls",
      "_model_module_version": "1.5.0",
      "_model_name": "DescriptionStyleModel",
      "_view_count": null,
      "_view_module": "@jupyter-widgets/base",
      "_view_module_version": "1.2.0",
      "_view_name": "StyleView",
      "description_width": ""
     }
    },
    "7f771e04cf1f4ae19d7a193adfb21bad": {
     "model_module": "@jupyter-widgets/base",
     "model_module_version": "1.2.0",
     "model_name": "LayoutModel",
     "state": {
      "_model_module": "@jupyter-widgets/base",
      "_model_module_version": "1.2.0",
      "_model_name": "LayoutModel",
      "_view_count": null,
      "_view_module": "@jupyter-widgets/base",
      "_view_module_version": "1.2.0",
      "_view_name": "LayoutView",
      "align_content": null,
      "align_items": null,
      "align_self": null,
      "border": null,
      "bottom": null,
      "display": null,
      "flex": null,
      "flex_flow": null,
      "grid_area": null,
      "grid_auto_columns": null,
      "grid_auto_flow": null,
      "grid_auto_rows": null,
      "grid_column": null,
      "grid_gap": null,
      "grid_row": null,
      "grid_template_areas": null,
      "grid_template_columns": null,
      "grid_template_rows": null,
      "height": null,
      "justify_content": null,
      "justify_items": null,
      "left": null,
      "margin": null,
      "max_height": null,
      "max_width": null,
      "min_height": null,
      "min_width": null,
      "object_fit": null,
      "object_position": null,
      "order": null,
      "overflow": null,
      "overflow_x": null,
      "overflow_y": null,
      "padding": null,
      "right": null,
      "top": null,
      "visibility": null,
      "width": null
     }
    },
    "80884bdf126a475fb89e053c29234c27": {
     "model_module": "@jupyter-widgets/controls",
     "model_module_version": "1.5.0",
     "model_name": "HBoxModel",
     "state": {
      "_dom_classes": [],
      "_model_module": "@jupyter-widgets/controls",
      "_model_module_version": "1.5.0",
      "_model_name": "HBoxModel",
      "_view_count": null,
      "_view_module": "@jupyter-widgets/controls",
      "_view_module_version": "1.5.0",
      "_view_name": "HBoxView",
      "box_style": "",
      "children": [
       "IPY_MODEL_d79c380cbd4e44159ef9014eacb6808a",
       "IPY_MODEL_df69e844354b425a9d0246def863e8a1",
       "IPY_MODEL_92bd9a68dcf3467fa3c964778a013085"
      ],
      "layout": "IPY_MODEL_3860fb276a7146dbb766798883db81e1"
     }
    },
    "844be0f445d34f99b39deb7b219c5337": {
     "model_module": "@jupyter-widgets/base",
     "model_module_version": "1.2.0",
     "model_name": "LayoutModel",
     "state": {
      "_model_module": "@jupyter-widgets/base",
      "_model_module_version": "1.2.0",
      "_model_name": "LayoutModel",
      "_view_count": null,
      "_view_module": "@jupyter-widgets/base",
      "_view_module_version": "1.2.0",
      "_view_name": "LayoutView",
      "align_content": null,
      "align_items": null,
      "align_self": null,
      "border": null,
      "bottom": null,
      "display": null,
      "flex": null,
      "flex_flow": null,
      "grid_area": null,
      "grid_auto_columns": null,
      "grid_auto_flow": null,
      "grid_auto_rows": null,
      "grid_column": null,
      "grid_gap": null,
      "grid_row": null,
      "grid_template_areas": null,
      "grid_template_columns": null,
      "grid_template_rows": null,
      "height": null,
      "justify_content": null,
      "justify_items": null,
      "left": null,
      "margin": null,
      "max_height": null,
      "max_width": null,
      "min_height": null,
      "min_width": null,
      "object_fit": null,
      "object_position": null,
      "order": null,
      "overflow": null,
      "overflow_x": null,
      "overflow_y": null,
      "padding": null,
      "right": null,
      "top": null,
      "visibility": null,
      "width": null
     }
    },
    "8eb771ba0c4c48b688b384f315764409": {
     "model_module": "@jupyter-widgets/base",
     "model_module_version": "1.2.0",
     "model_name": "LayoutModel",
     "state": {
      "_model_module": "@jupyter-widgets/base",
      "_model_module_version": "1.2.0",
      "_model_name": "LayoutModel",
      "_view_count": null,
      "_view_module": "@jupyter-widgets/base",
      "_view_module_version": "1.2.0",
      "_view_name": "LayoutView",
      "align_content": null,
      "align_items": null,
      "align_self": null,
      "border": null,
      "bottom": null,
      "display": null,
      "flex": null,
      "flex_flow": null,
      "grid_area": null,
      "grid_auto_columns": null,
      "grid_auto_flow": null,
      "grid_auto_rows": null,
      "grid_column": null,
      "grid_gap": null,
      "grid_row": null,
      "grid_template_areas": null,
      "grid_template_columns": null,
      "grid_template_rows": null,
      "height": null,
      "justify_content": null,
      "justify_items": null,
      "left": null,
      "margin": null,
      "max_height": null,
      "max_width": null,
      "min_height": null,
      "min_width": null,
      "object_fit": null,
      "object_position": null,
      "order": null,
      "overflow": null,
      "overflow_x": null,
      "overflow_y": null,
      "padding": null,
      "right": null,
      "top": null,
      "visibility": null,
      "width": null
     }
    },
    "92bd9a68dcf3467fa3c964778a013085": {
     "model_module": "@jupyter-widgets/controls",
     "model_module_version": "1.5.0",
     "model_name": "HTMLModel",
     "state": {
      "_dom_classes": [],
      "_model_module": "@jupyter-widgets/controls",
      "_model_module_version": "1.5.0",
      "_model_name": "HTMLModel",
      "_view_count": null,
      "_view_module": "@jupyter-widgets/controls",
      "_view_module_version": "1.5.0",
      "_view_name": "HTMLView",
      "description": "",
      "description_tooltip": null,
      "layout": "IPY_MODEL_8eb771ba0c4c48b688b384f315764409",
      "placeholder": "​",
      "style": "IPY_MODEL_7a4c2a61af444059bb1d12cbfe2afc35",
      "value": " 165378/165378 [00:43&lt;00:00, 4165.08it/s]"
     }
    },
    "9dc028bf96584adab56a072f44c80f63": {
     "model_module": "@jupyter-widgets/base",
     "model_module_version": "1.2.0",
     "model_name": "LayoutModel",
     "state": {
      "_model_module": "@jupyter-widgets/base",
      "_model_module_version": "1.2.0",
      "_model_name": "LayoutModel",
      "_view_count": null,
      "_view_module": "@jupyter-widgets/base",
      "_view_module_version": "1.2.0",
      "_view_name": "LayoutView",
      "align_content": null,
      "align_items": null,
      "align_self": null,
      "border": null,
      "bottom": null,
      "display": null,
      "flex": null,
      "flex_flow": null,
      "grid_area": null,
      "grid_auto_columns": null,
      "grid_auto_flow": null,
      "grid_auto_rows": null,
      "grid_column": null,
      "grid_gap": null,
      "grid_row": null,
      "grid_template_areas": null,
      "grid_template_columns": null,
      "grid_template_rows": null,
      "height": null,
      "justify_content": null,
      "justify_items": null,
      "left": null,
      "margin": null,
      "max_height": null,
      "max_width": null,
      "min_height": null,
      "min_width": null,
      "object_fit": null,
      "object_position": null,
      "order": null,
      "overflow": null,
      "overflow_x": null,
      "overflow_y": null,
      "padding": null,
      "right": null,
      "top": null,
      "visibility": null,
      "width": null
     }
    },
    "b4306080fa024f0583a5b1ddf2d97ed4": {
     "model_module": "@jupyter-widgets/controls",
     "model_module_version": "1.5.0",
     "model_name": "HTMLModel",
     "state": {
      "_dom_classes": [],
      "_model_module": "@jupyter-widgets/controls",
      "_model_module_version": "1.5.0",
      "_model_name": "HTMLModel",
      "_view_count": null,
      "_view_module": "@jupyter-widgets/controls",
      "_view_module_version": "1.5.0",
      "_view_name": "HTMLView",
      "description": "",
      "description_tooltip": null,
      "layout": "IPY_MODEL_844be0f445d34f99b39deb7b219c5337",
      "placeholder": "​",
      "style": "IPY_MODEL_c0a2e4942ca844e8b049929a28938bc6",
      "value": " 135309/135309 [00:43&lt;00:00, 3946.29it/s]"
     }
    },
    "c0a2e4942ca844e8b049929a28938bc6": {
     "model_module": "@jupyter-widgets/controls",
     "model_module_version": "1.5.0",
     "model_name": "DescriptionStyleModel",
     "state": {
      "_model_module": "@jupyter-widgets/controls",
      "_model_module_version": "1.5.0",
      "_model_name": "DescriptionStyleModel",
      "_view_count": null,
      "_view_module": "@jupyter-widgets/base",
      "_view_module_version": "1.2.0",
      "_view_name": "StyleView",
      "description_width": ""
     }
    },
    "c441c93845dc4726bbd8acb1804ccac7": {
     "model_module": "@jupyter-widgets/controls",
     "model_module_version": "1.5.0",
     "model_name": "HTMLModel",
     "state": {
      "_dom_classes": [],
      "_model_module": "@jupyter-widgets/controls",
      "_model_module_version": "1.5.0",
      "_model_name": "HTMLModel",
      "_view_count": null,
      "_view_module": "@jupyter-widgets/controls",
      "_view_module_version": "1.5.0",
      "_view_name": "HTMLView",
      "description": "",
      "description_tooltip": null,
      "layout": "IPY_MODEL_4fa233da8a494ffdb66a7f669a673669",
      "placeholder": "​",
      "style": "IPY_MODEL_18c33e6d435e43f7a4c773335c612adf",
      "value": "100%"
     }
    },
    "d79c380cbd4e44159ef9014eacb6808a": {
     "model_module": "@jupyter-widgets/controls",
     "model_module_version": "1.5.0",
     "model_name": "HTMLModel",
     "state": {
      "_dom_classes": [],
      "_model_module": "@jupyter-widgets/controls",
      "_model_module_version": "1.5.0",
      "_model_name": "HTMLModel",
      "_view_count": null,
      "_view_module": "@jupyter-widgets/controls",
      "_view_module_version": "1.5.0",
      "_view_name": "HTMLView",
      "description": "",
      "description_tooltip": null,
      "layout": "IPY_MODEL_4a946de098ea44d99f79e6e490bf5409",
      "placeholder": "​",
      "style": "IPY_MODEL_7da9c272ef8645019a8aa32be96ab0df",
      "value": "100%"
     }
    },
    "df69e844354b425a9d0246def863e8a1": {
     "model_module": "@jupyter-widgets/controls",
     "model_module_version": "1.5.0",
     "model_name": "FloatProgressModel",
     "state": {
      "_dom_classes": [],
      "_model_module": "@jupyter-widgets/controls",
      "_model_module_version": "1.5.0",
      "_model_name": "FloatProgressModel",
      "_view_count": null,
      "_view_module": "@jupyter-widgets/controls",
      "_view_module_version": "1.5.0",
      "_view_name": "ProgressView",
      "bar_style": "success",
      "description": "",
      "description_tooltip": null,
      "layout": "IPY_MODEL_7f771e04cf1f4ae19d7a193adfb21bad",
      "max": 165378,
      "min": 0,
      "orientation": "horizontal",
      "style": "IPY_MODEL_6d651f41f8e1430391f336044794d3ca",
      "value": 165378
     }
    }
   }
  }
 },
 "nbformat": 4,
 "nbformat_minor": 1
}
